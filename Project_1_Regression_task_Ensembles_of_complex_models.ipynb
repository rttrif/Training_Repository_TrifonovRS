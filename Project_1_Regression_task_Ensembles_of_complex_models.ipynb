{
 "cells": [
  {
   "cell_type": "markdown",
   "source": [
    "\n",
    "\n",
    "---\n",
    "\n",
    "## Проект 1\n",
    "\n",
    "### Сопоставительный анализ простых и сложных ансамблей архитектур нейронных сетей для решения задачи регрессии.\n",
    "\n",
    "### Этап 5. Обучение анасамблей сложных моделей."
   ],
   "metadata": {
    "collapsed": false
   }
  },
  {
   "cell_type": "markdown",
   "source": [
    "### Цели и задачи этапа\n",
    "\n",
    "Обучение ансамблей простых моделей полученных на этапе 2."
   ],
   "metadata": {
    "collapsed": false
   }
  },
  {
   "cell_type": "markdown",
   "source": [
    "### IMPORT LIBRARIES"
   ],
   "metadata": {
    "collapsed": false
   }
  },
  {
   "cell_type": "code",
   "execution_count": 34,
   "outputs": [],
   "source": [
    "import pandas as pd\n",
    "import numpy as np\n",
    "import matplotlib.pyplot as plt\n",
    "import math\n",
    "import seaborn as sns\n",
    "\n",
    "from sklearn.model_selection import train_test_split\n",
    "from sklearn.preprocessing import MinMaxScaler\n",
    "from sklearn.metrics import mean_squared_error\n",
    "\n",
    "import tensorflow as tf\n",
    "from tensorflow.keras.models import Sequential, Model\n",
    "from tensorflow.keras.layers import Dense, Input, Concatenate, Average\n",
    "from tensorflow.keras.layers import Dropout\n",
    "from tensorflow.keras.layers import BatchNormalization"
   ],
   "metadata": {
    "collapsed": false,
    "pycharm": {
     "name": "#%%\n"
    }
   }
  },
  {
   "cell_type": "markdown",
   "source": [
    "## IMPORT DATA\n",
    "---"
   ],
   "metadata": {
    "collapsed": false
   }
  },
  {
   "cell_type": "code",
   "execution_count": 35,
   "outputs": [],
   "source": [
    "data_path = r'/Users/rttrif/Data_Science_Projects/Internship_MindSet/Project_1_Regression_task'"
   ],
   "metadata": {
    "collapsed": false,
    "pycharm": {
     "name": "#%%\n"
    }
   }
  },
  {
   "cell_type": "code",
   "execution_count": 36,
   "outputs": [
    {
     "data": {
      "text/plain": "   Global_reactive_power     Voltage  Global_intensity  Sub_metering_1  \\\n0               0.084200  236.878667         10.953333             0.0   \n1               0.232600  239.185000          4.173333             0.0   \n2               0.138600  244.615333          1.420000             0.0   \n3               0.015800  236.114667         11.366667             8.5   \n4               0.079133  240.075667          6.253333             0.0   \n\n   Sub_metering_2  Sub_metering_3  \n0       36.966667        0.600000  \n1        0.000000        8.433333  \n2        0.500000        0.000000  \n3        0.000000       17.666667  \n4        0.000000       20.433333  ",
      "text/html": "<div>\n<style scoped>\n    .dataframe tbody tr th:only-of-type {\n        vertical-align: middle;\n    }\n\n    .dataframe tbody tr th {\n        vertical-align: top;\n    }\n\n    .dataframe thead th {\n        text-align: right;\n    }\n</style>\n<table border=\"1\" class=\"dataframe\">\n  <thead>\n    <tr style=\"text-align: right;\">\n      <th></th>\n      <th>Global_reactive_power</th>\n      <th>Voltage</th>\n      <th>Global_intensity</th>\n      <th>Sub_metering_1</th>\n      <th>Sub_metering_2</th>\n      <th>Sub_metering_3</th>\n    </tr>\n  </thead>\n  <tbody>\n    <tr>\n      <th>0</th>\n      <td>0.084200</td>\n      <td>236.878667</td>\n      <td>10.953333</td>\n      <td>0.0</td>\n      <td>36.966667</td>\n      <td>0.600000</td>\n    </tr>\n    <tr>\n      <th>1</th>\n      <td>0.232600</td>\n      <td>239.185000</td>\n      <td>4.173333</td>\n      <td>0.0</td>\n      <td>0.000000</td>\n      <td>8.433333</td>\n    </tr>\n    <tr>\n      <th>2</th>\n      <td>0.138600</td>\n      <td>244.615333</td>\n      <td>1.420000</td>\n      <td>0.0</td>\n      <td>0.500000</td>\n      <td>0.000000</td>\n    </tr>\n    <tr>\n      <th>3</th>\n      <td>0.015800</td>\n      <td>236.114667</td>\n      <td>11.366667</td>\n      <td>8.5</td>\n      <td>0.000000</td>\n      <td>17.666667</td>\n    </tr>\n    <tr>\n      <th>4</th>\n      <td>0.079133</td>\n      <td>240.075667</td>\n      <td>6.253333</td>\n      <td>0.0</td>\n      <td>0.000000</td>\n      <td>20.433333</td>\n    </tr>\n  </tbody>\n</table>\n</div>"
     },
     "execution_count": 36,
     "metadata": {},
     "output_type": "execute_result"
    }
   ],
   "source": [
    "# Read X_train\n",
    "X_train = pd.read_csv(data_path + '/X_train.csv')\n",
    "X_train.head()"
   ],
   "metadata": {
    "collapsed": false,
    "pycharm": {
     "name": "#%%\n"
    }
   }
  },
  {
   "cell_type": "code",
   "execution_count": 37,
   "outputs": [
    {
     "data": {
      "text/plain": "   Global_reactive_power     Voltage  Global_intensity  Sub_metering_1  \\\n0               0.040733  238.253333         11.300000             0.0   \n1               0.064333  233.142333          7.660000             0.0   \n2               0.058000  242.286667          1.213333             0.0   \n3               0.099667  243.178667          1.506667             0.0   \n4               0.117733  233.769333          6.026667             0.0   \n\n   Sub_metering_2  Sub_metering_3  \n0        0.866667       17.433333  \n1        0.333333       16.666667  \n2        0.000000        0.633333  \n3        0.133333        0.000000  \n4        0.366667        0.000000  ",
      "text/html": "<div>\n<style scoped>\n    .dataframe tbody tr th:only-of-type {\n        vertical-align: middle;\n    }\n\n    .dataframe tbody tr th {\n        vertical-align: top;\n    }\n\n    .dataframe thead th {\n        text-align: right;\n    }\n</style>\n<table border=\"1\" class=\"dataframe\">\n  <thead>\n    <tr style=\"text-align: right;\">\n      <th></th>\n      <th>Global_reactive_power</th>\n      <th>Voltage</th>\n      <th>Global_intensity</th>\n      <th>Sub_metering_1</th>\n      <th>Sub_metering_2</th>\n      <th>Sub_metering_3</th>\n    </tr>\n  </thead>\n  <tbody>\n    <tr>\n      <th>0</th>\n      <td>0.040733</td>\n      <td>238.253333</td>\n      <td>11.300000</td>\n      <td>0.0</td>\n      <td>0.866667</td>\n      <td>17.433333</td>\n    </tr>\n    <tr>\n      <th>1</th>\n      <td>0.064333</td>\n      <td>233.142333</td>\n      <td>7.660000</td>\n      <td>0.0</td>\n      <td>0.333333</td>\n      <td>16.666667</td>\n    </tr>\n    <tr>\n      <th>2</th>\n      <td>0.058000</td>\n      <td>242.286667</td>\n      <td>1.213333</td>\n      <td>0.0</td>\n      <td>0.000000</td>\n      <td>0.633333</td>\n    </tr>\n    <tr>\n      <th>3</th>\n      <td>0.099667</td>\n      <td>243.178667</td>\n      <td>1.506667</td>\n      <td>0.0</td>\n      <td>0.133333</td>\n      <td>0.000000</td>\n    </tr>\n    <tr>\n      <th>4</th>\n      <td>0.117733</td>\n      <td>233.769333</td>\n      <td>6.026667</td>\n      <td>0.0</td>\n      <td>0.366667</td>\n      <td>0.000000</td>\n    </tr>\n  </tbody>\n</table>\n</div>"
     },
     "execution_count": 37,
     "metadata": {},
     "output_type": "execute_result"
    }
   ],
   "source": [
    "# Read X_test\n",
    "X_test = pd.read_csv(data_path + '/X_test.csv')\n",
    "X_test.head()"
   ],
   "metadata": {
    "collapsed": false,
    "pycharm": {
     "name": "#%%\n"
    }
   }
  },
  {
   "cell_type": "code",
   "execution_count": 38,
   "outputs": [
    {
     "data": {
      "text/plain": "   Global_active_power\n0             2.572000\n1             0.951533\n2             0.336667\n3             2.684667\n4             1.501467",
      "text/html": "<div>\n<style scoped>\n    .dataframe tbody tr th:only-of-type {\n        vertical-align: middle;\n    }\n\n    .dataframe tbody tr th {\n        vertical-align: top;\n    }\n\n    .dataframe thead th {\n        text-align: right;\n    }\n</style>\n<table border=\"1\" class=\"dataframe\">\n  <thead>\n    <tr style=\"text-align: right;\">\n      <th></th>\n      <th>Global_active_power</th>\n    </tr>\n  </thead>\n  <tbody>\n    <tr>\n      <th>0</th>\n      <td>2.572000</td>\n    </tr>\n    <tr>\n      <th>1</th>\n      <td>0.951533</td>\n    </tr>\n    <tr>\n      <th>2</th>\n      <td>0.336667</td>\n    </tr>\n    <tr>\n      <th>3</th>\n      <td>2.684667</td>\n    </tr>\n    <tr>\n      <th>4</th>\n      <td>1.501467</td>\n    </tr>\n  </tbody>\n</table>\n</div>"
     },
     "execution_count": 38,
     "metadata": {},
     "output_type": "execute_result"
    }
   ],
   "source": [
    "# Read y_train\n",
    "y_train = pd.read_csv(data_path + '/y_train.csv')\n",
    "y_train.head()"
   ],
   "metadata": {
    "collapsed": false,
    "pycharm": {
     "name": "#%%\n"
    }
   }
  },
  {
   "cell_type": "code",
   "execution_count": 39,
   "outputs": [
    {
     "data": {
      "text/plain": "   Global_active_power\n0             2.693333\n1             1.794067\n2             0.265600\n3             0.346267\n4             1.407400",
      "text/html": "<div>\n<style scoped>\n    .dataframe tbody tr th:only-of-type {\n        vertical-align: middle;\n    }\n\n    .dataframe tbody tr th {\n        vertical-align: top;\n    }\n\n    .dataframe thead th {\n        text-align: right;\n    }\n</style>\n<table border=\"1\" class=\"dataframe\">\n  <thead>\n    <tr style=\"text-align: right;\">\n      <th></th>\n      <th>Global_active_power</th>\n    </tr>\n  </thead>\n  <tbody>\n    <tr>\n      <th>0</th>\n      <td>2.693333</td>\n    </tr>\n    <tr>\n      <th>1</th>\n      <td>1.794067</td>\n    </tr>\n    <tr>\n      <th>2</th>\n      <td>0.265600</td>\n    </tr>\n    <tr>\n      <th>3</th>\n      <td>0.346267</td>\n    </tr>\n    <tr>\n      <th>4</th>\n      <td>1.407400</td>\n    </tr>\n  </tbody>\n</table>\n</div>"
     },
     "execution_count": 39,
     "metadata": {},
     "output_type": "execute_result"
    }
   ],
   "source": [
    "# Read y_test\n",
    "y_test =  pd.read_csv(data_path + '/y_test.csv')\n",
    "y_test.head()"
   ],
   "metadata": {
    "collapsed": false,
    "pycharm": {
     "name": "#%%\n"
    }
   }
  },
  {
   "cell_type": "markdown",
   "source": [
    "### Normalize data"
   ],
   "metadata": {
    "collapsed": false
   }
  },
  {
   "cell_type": "code",
   "execution_count": 40,
   "outputs": [],
   "source": [
    "# scaler\n",
    "scaler = MinMaxScaler(feature_range=(0, 1))"
   ],
   "metadata": {
    "collapsed": false,
    "pycharm": {
     "name": "#%%\n"
    }
   }
  },
  {
   "cell_type": "code",
   "execution_count": 41,
   "outputs": [
    {
     "name": "stdout",
     "output_type": "stream",
     "text": [
      "(47840, 6)\n"
     ]
    }
   ],
   "source": [
    "# Normalize X_train\n",
    "X_train_norm = scaler.fit_transform(X_train)\n",
    "print(X_train.shape)"
   ],
   "metadata": {
    "collapsed": false,
    "pycharm": {
     "name": "#%%\n"
    }
   }
  },
  {
   "cell_type": "code",
   "execution_count": 42,
   "outputs": [
    {
     "data": {
      "text/plain": "array([[0.10669933, 0.4204013 , 0.333611  , 0.        , 0.65427729,\n        0.02524544],\n       [0.29475374, 0.50663011, 0.12182424, 0.        , 0.        ,\n        0.35483871],\n       [0.17563572, 0.70965852, 0.03581841, 0.        , 0.00884956,\n        0.        ],\n       ...,\n       [0.06023486, 0.71335992, 0.03061224, 0.        , 0.        ,\n        0.02805049],\n       [0.16684971, 0.76855683, 0.03456893, 0.        , 0.        ,\n        0.        ],\n       [0.45146574, 0.31360917, 0.4606414 , 0.26985797, 0.        ,\n        0.        ]])"
     },
     "execution_count": 42,
     "metadata": {},
     "output_type": "execute_result"
    }
   ],
   "source": [
    "X_train_norm"
   ],
   "metadata": {
    "collapsed": false,
    "pycharm": {
     "name": "#%%\n"
    }
   }
  },
  {
   "cell_type": "code",
   "execution_count": 43,
   "outputs": [
    {
     "name": "stdout",
     "output_type": "stream",
     "text": [
      "(20484, 6)\n"
     ]
    }
   ],
   "source": [
    "# Normalize X_test\n",
    "X_test_norm = scaler.fit_transform(X_test)\n",
    "print(X_test.shape)"
   ],
   "metadata": {
    "collapsed": false,
    "pycharm": {
     "name": "#%%\n"
    }
   }
  },
  {
   "cell_type": "code",
   "execution_count": 44,
   "outputs": [
    {
     "data": {
      "text/plain": "array([[0.05737089, 0.46502294, 0.32828987, 0.        , 0.01424658,\n        0.74395448],\n       [0.09061033, 0.26520799, 0.21958989, 0.        , 0.00547945,\n        0.71123755],\n       [0.08169014, 0.62270642, 0.02707545, 0.        , 0.        ,\n        0.02702703],\n       ...,\n       [0.08873239, 0.5500417 , 0.05853076, 0.        , 0.        ,\n        0.07965861],\n       [0.20065728, 0.46528357, 0.49253434, 0.        , 0.01150685,\n        0.74110953],\n       [0.13915493, 0.49091691, 0.49930321, 0.        , 0.47780822,\n        0.18918919]])"
     },
     "execution_count": 44,
     "metadata": {},
     "output_type": "execute_result"
    }
   ],
   "source": [
    "X_test_norm"
   ],
   "metadata": {
    "collapsed": false,
    "pycharm": {
     "name": "#%%\n"
    }
   }
  },
  {
   "cell_type": "markdown",
   "source": [
    "## Training ensembles of simple models\n",
    "\n",
    "Обучение ансамля ансамблей. Беруться финальные модели каждой из групп т.е. анасамбли всех простых моделей."
   ],
   "metadata": {
    "collapsed": false
   }
  },
  {
   "cell_type": "markdown",
   "source": [
    "### Model_13a\n",
    "\n",
    "Анасамбль моледей: 6a + 6b"
   ],
   "metadata": {
    "collapsed": false
   }
  },
  {
   "cell_type": "code",
   "execution_count": 45,
   "outputs": [
    {
     "ename": "AssertionError",
     "evalue": "Could not compute output KerasTensor(type_spec=TensorSpec(shape=(None, 1), dtype=tf.float32, name=None), name='output/BiasAdd:0', description=\"created by layer 'output'\")",
     "output_type": "error",
     "traceback": [
      "\u001B[0;31m---------------------------------------------------------------------------\u001B[0m",
      "\u001B[0;31mAssertionError\u001B[0m                            Traceback (most recent call last)",
      "\u001B[0;32m/var/folders/c9/dmg044v1297crzr51490bbj40000gn/T/ipykernel_24412/1089668788.py\u001B[0m in \u001B[0;36m<module>\u001B[0;34m\u001B[0m\n\u001B[1;32m      8\u001B[0m \u001B[0;31m# Load models\u001B[0m\u001B[0;34m\u001B[0m\u001B[0;34m\u001B[0m\u001B[0;34m\u001B[0m\u001B[0m\n\u001B[1;32m      9\u001B[0m \u001B[0mmodel_6a\u001B[0m \u001B[0;34m=\u001B[0m \u001B[0mtf\u001B[0m\u001B[0;34m.\u001B[0m\u001B[0mkeras\u001B[0m\u001B[0;34m.\u001B[0m\u001B[0mmodels\u001B[0m\u001B[0;34m.\u001B[0m\u001B[0mload_model\u001B[0m\u001B[0;34m(\u001B[0m\u001B[0;34m'model_6a.h5'\u001B[0m\u001B[0;34m)\u001B[0m\u001B[0;34m(\u001B[0m\u001B[0minput\u001B[0m\u001B[0;34m)\u001B[0m\u001B[0;34m\u001B[0m\u001B[0;34m\u001B[0m\u001B[0m\n\u001B[0;32m---> 10\u001B[0;31m \u001B[0mmodel_6b\u001B[0m \u001B[0;34m=\u001B[0m \u001B[0mtf\u001B[0m\u001B[0;34m.\u001B[0m\u001B[0mkeras\u001B[0m\u001B[0;34m.\u001B[0m\u001B[0mmodels\u001B[0m\u001B[0;34m.\u001B[0m\u001B[0mload_model\u001B[0m\u001B[0;34m(\u001B[0m\u001B[0;34m'model_6b.h5'\u001B[0m\u001B[0;34m)\u001B[0m\u001B[0;34m(\u001B[0m\u001B[0minput_A\u001B[0m\u001B[0;34m,\u001B[0m \u001B[0minput_B\u001B[0m\u001B[0;34m)\u001B[0m\u001B[0;34m\u001B[0m\u001B[0;34m\u001B[0m\u001B[0m\n\u001B[0m\u001B[1;32m     11\u001B[0m \u001B[0;34m\u001B[0m\u001B[0m\n\u001B[1;32m     12\u001B[0m \u001B[0;31m# Output\u001B[0m\u001B[0;34m\u001B[0m\u001B[0;34m\u001B[0m\u001B[0;34m\u001B[0m\u001B[0m\n",
      "\u001B[0;32m~/miniforge3/envs/tensorflow_m1/lib/python3.9/site-packages/tensorflow/python/keras/engine/base_layer.py\u001B[0m in \u001B[0;36m__call__\u001B[0;34m(self, *args, **kwargs)\u001B[0m\n\u001B[1;32m    967\u001B[0m     \u001B[0;31m# >> model = tf.keras.Model(inputs, outputs)\u001B[0m\u001B[0;34m\u001B[0m\u001B[0;34m\u001B[0m\u001B[0;34m\u001B[0m\u001B[0m\n\u001B[1;32m    968\u001B[0m     \u001B[0;32mif\u001B[0m \u001B[0m_in_functional_construction_mode\u001B[0m\u001B[0;34m(\u001B[0m\u001B[0mself\u001B[0m\u001B[0;34m,\u001B[0m \u001B[0minputs\u001B[0m\u001B[0;34m,\u001B[0m \u001B[0margs\u001B[0m\u001B[0;34m,\u001B[0m \u001B[0mkwargs\u001B[0m\u001B[0;34m,\u001B[0m \u001B[0minput_list\u001B[0m\u001B[0;34m)\u001B[0m\u001B[0;34m:\u001B[0m\u001B[0;34m\u001B[0m\u001B[0;34m\u001B[0m\u001B[0m\n\u001B[0;32m--> 969\u001B[0;31m       return self._functional_construction_call(inputs, args, kwargs,\n\u001B[0m\u001B[1;32m    970\u001B[0m                                                 input_list)\n\u001B[1;32m    971\u001B[0m \u001B[0;34m\u001B[0m\u001B[0m\n",
      "\u001B[0;32m~/miniforge3/envs/tensorflow_m1/lib/python3.9/site-packages/tensorflow/python/keras/engine/base_layer.py\u001B[0m in \u001B[0;36m_functional_construction_call\u001B[0;34m(self, inputs, args, kwargs, input_list)\u001B[0m\n\u001B[1;32m   1105\u001B[0m         layer=self, inputs=inputs, build_graph=True, training=training_value):\n\u001B[1;32m   1106\u001B[0m       \u001B[0;31m# Check input assumptions set after layer building, e.g. input shape.\u001B[0m\u001B[0;34m\u001B[0m\u001B[0;34m\u001B[0m\u001B[0;34m\u001B[0m\u001B[0m\n\u001B[0;32m-> 1107\u001B[0;31m       outputs = self._keras_tensor_symbolic_call(\n\u001B[0m\u001B[1;32m   1108\u001B[0m           inputs, input_masks, args, kwargs)\n\u001B[1;32m   1109\u001B[0m \u001B[0;34m\u001B[0m\u001B[0m\n",
      "\u001B[0;32m~/miniforge3/envs/tensorflow_m1/lib/python3.9/site-packages/tensorflow/python/keras/engine/base_layer.py\u001B[0m in \u001B[0;36m_keras_tensor_symbolic_call\u001B[0;34m(self, inputs, input_masks, args, kwargs)\u001B[0m\n\u001B[1;32m    838\u001B[0m       \u001B[0;32mreturn\u001B[0m \u001B[0mnest\u001B[0m\u001B[0;34m.\u001B[0m\u001B[0mmap_structure\u001B[0m\u001B[0;34m(\u001B[0m\u001B[0mkeras_tensor\u001B[0m\u001B[0;34m.\u001B[0m\u001B[0mKerasTensor\u001B[0m\u001B[0;34m,\u001B[0m \u001B[0moutput_signature\u001B[0m\u001B[0;34m)\u001B[0m\u001B[0;34m\u001B[0m\u001B[0;34m\u001B[0m\u001B[0m\n\u001B[1;32m    839\u001B[0m     \u001B[0;32melse\u001B[0m\u001B[0;34m:\u001B[0m\u001B[0;34m\u001B[0m\u001B[0;34m\u001B[0m\u001B[0m\n\u001B[0;32m--> 840\u001B[0;31m       \u001B[0;32mreturn\u001B[0m \u001B[0mself\u001B[0m\u001B[0;34m.\u001B[0m\u001B[0m_infer_output_signature\u001B[0m\u001B[0;34m(\u001B[0m\u001B[0minputs\u001B[0m\u001B[0;34m,\u001B[0m \u001B[0margs\u001B[0m\u001B[0;34m,\u001B[0m \u001B[0mkwargs\u001B[0m\u001B[0;34m,\u001B[0m \u001B[0minput_masks\u001B[0m\u001B[0;34m)\u001B[0m\u001B[0;34m\u001B[0m\u001B[0;34m\u001B[0m\u001B[0m\n\u001B[0m\u001B[1;32m    841\u001B[0m \u001B[0;34m\u001B[0m\u001B[0m\n\u001B[1;32m    842\u001B[0m   \u001B[0;32mdef\u001B[0m \u001B[0m_infer_output_signature\u001B[0m\u001B[0;34m(\u001B[0m\u001B[0mself\u001B[0m\u001B[0;34m,\u001B[0m \u001B[0minputs\u001B[0m\u001B[0;34m,\u001B[0m \u001B[0margs\u001B[0m\u001B[0;34m,\u001B[0m \u001B[0mkwargs\u001B[0m\u001B[0;34m,\u001B[0m \u001B[0minput_masks\u001B[0m\u001B[0;34m)\u001B[0m\u001B[0;34m:\u001B[0m\u001B[0;34m\u001B[0m\u001B[0;34m\u001B[0m\u001B[0m\n",
      "\u001B[0;32m~/miniforge3/envs/tensorflow_m1/lib/python3.9/site-packages/tensorflow/python/keras/engine/base_layer.py\u001B[0m in \u001B[0;36m_infer_output_signature\u001B[0;34m(self, inputs, args, kwargs, input_masks)\u001B[0m\n\u001B[1;32m    878\u001B[0m           \u001B[0mself\u001B[0m\u001B[0;34m.\u001B[0m\u001B[0m_maybe_build\u001B[0m\u001B[0;34m(\u001B[0m\u001B[0minputs\u001B[0m\u001B[0;34m)\u001B[0m\u001B[0;34m\u001B[0m\u001B[0;34m\u001B[0m\u001B[0m\n\u001B[1;32m    879\u001B[0m           \u001B[0minputs\u001B[0m \u001B[0;34m=\u001B[0m \u001B[0mself\u001B[0m\u001B[0;34m.\u001B[0m\u001B[0m_maybe_cast_inputs\u001B[0m\u001B[0;34m(\u001B[0m\u001B[0minputs\u001B[0m\u001B[0;34m)\u001B[0m\u001B[0;34m\u001B[0m\u001B[0;34m\u001B[0m\u001B[0m\n\u001B[0;32m--> 880\u001B[0;31m           \u001B[0moutputs\u001B[0m \u001B[0;34m=\u001B[0m \u001B[0mcall_fn\u001B[0m\u001B[0;34m(\u001B[0m\u001B[0minputs\u001B[0m\u001B[0;34m,\u001B[0m \u001B[0;34m*\u001B[0m\u001B[0margs\u001B[0m\u001B[0;34m,\u001B[0m \u001B[0;34m**\u001B[0m\u001B[0mkwargs\u001B[0m\u001B[0;34m)\u001B[0m\u001B[0;34m\u001B[0m\u001B[0;34m\u001B[0m\u001B[0m\n\u001B[0m\u001B[1;32m    881\u001B[0m \u001B[0;34m\u001B[0m\u001B[0m\n\u001B[1;32m    882\u001B[0m         \u001B[0mself\u001B[0m\u001B[0;34m.\u001B[0m\u001B[0m_handle_activity_regularization\u001B[0m\u001B[0;34m(\u001B[0m\u001B[0minputs\u001B[0m\u001B[0;34m,\u001B[0m \u001B[0moutputs\u001B[0m\u001B[0;34m)\u001B[0m\u001B[0;34m\u001B[0m\u001B[0;34m\u001B[0m\u001B[0m\n",
      "\u001B[0;32m~/miniforge3/envs/tensorflow_m1/lib/python3.9/site-packages/tensorflow/python/keras/engine/functional.py\u001B[0m in \u001B[0;36mcall\u001B[0;34m(self, inputs, training, mask)\u001B[0m\n\u001B[1;32m    418\u001B[0m         \u001B[0ma\u001B[0m \u001B[0mlist\u001B[0m \u001B[0mof\u001B[0m \u001B[0mtensors\u001B[0m \u001B[0;32mif\u001B[0m \u001B[0mthere\u001B[0m \u001B[0mare\u001B[0m \u001B[0mmore\u001B[0m \u001B[0mthan\u001B[0m \u001B[0mone\u001B[0m \u001B[0moutputs\u001B[0m\u001B[0;34m.\u001B[0m\u001B[0;34m\u001B[0m\u001B[0;34m\u001B[0m\u001B[0m\n\u001B[1;32m    419\u001B[0m     \"\"\"\n\u001B[0;32m--> 420\u001B[0;31m     return self._run_internal_graph(\n\u001B[0m\u001B[1;32m    421\u001B[0m         inputs, training=training, mask=mask)\n\u001B[1;32m    422\u001B[0m \u001B[0;34m\u001B[0m\u001B[0m\n",
      "\u001B[0;32m~/miniforge3/envs/tensorflow_m1/lib/python3.9/site-packages/tensorflow/python/keras/engine/functional.py\u001B[0m in \u001B[0;36m_run_internal_graph\u001B[0;34m(self, inputs, training, mask)\u001B[0m\n\u001B[1;32m    563\u001B[0m     \u001B[0;32mfor\u001B[0m \u001B[0mx\u001B[0m \u001B[0;32min\u001B[0m \u001B[0mself\u001B[0m\u001B[0;34m.\u001B[0m\u001B[0moutputs\u001B[0m\u001B[0;34m:\u001B[0m\u001B[0;34m\u001B[0m\u001B[0;34m\u001B[0m\u001B[0m\n\u001B[1;32m    564\u001B[0m       \u001B[0mx_id\u001B[0m \u001B[0;34m=\u001B[0m \u001B[0mstr\u001B[0m\u001B[0;34m(\u001B[0m\u001B[0mid\u001B[0m\u001B[0;34m(\u001B[0m\u001B[0mx\u001B[0m\u001B[0;34m)\u001B[0m\u001B[0;34m)\u001B[0m\u001B[0;34m\u001B[0m\u001B[0;34m\u001B[0m\u001B[0m\n\u001B[0;32m--> 565\u001B[0;31m       \u001B[0;32massert\u001B[0m \u001B[0mx_id\u001B[0m \u001B[0;32min\u001B[0m \u001B[0mtensor_dict\u001B[0m\u001B[0;34m,\u001B[0m \u001B[0;34m'Could not compute output '\u001B[0m \u001B[0;34m+\u001B[0m \u001B[0mstr\u001B[0m\u001B[0;34m(\u001B[0m\u001B[0mx\u001B[0m\u001B[0;34m)\u001B[0m\u001B[0;34m\u001B[0m\u001B[0;34m\u001B[0m\u001B[0m\n\u001B[0m\u001B[1;32m    566\u001B[0m       \u001B[0moutput_tensors\u001B[0m\u001B[0;34m.\u001B[0m\u001B[0mappend\u001B[0m\u001B[0;34m(\u001B[0m\u001B[0mtensor_dict\u001B[0m\u001B[0;34m[\u001B[0m\u001B[0mx_id\u001B[0m\u001B[0;34m]\u001B[0m\u001B[0;34m.\u001B[0m\u001B[0mpop\u001B[0m\u001B[0;34m(\u001B[0m\u001B[0;34m)\u001B[0m\u001B[0;34m)\u001B[0m\u001B[0;34m\u001B[0m\u001B[0;34m\u001B[0m\u001B[0m\n\u001B[1;32m    567\u001B[0m \u001B[0;34m\u001B[0m\u001B[0m\n",
      "\u001B[0;31mAssertionError\u001B[0m: Could not compute output KerasTensor(type_spec=TensorSpec(shape=(None, 1), dtype=tf.float32, name=None), name='output/BiasAdd:0', description=\"created by layer 'output'\")"
     ]
    }
   ],
   "source": [
    "# Input for model_6a\n",
    "input = Input(shape = (6,))\n",
    "\n",
    "# Input for model_6b\n",
    "input_A = Input(shape = (6,),name=\"wide_input\")\n",
    "input_B = Input(shape = (6,),name=\"deep_input\")\n",
    "\n",
    "# Load models\n",
    "model_6a = tf.keras.models.load_model('model_6a.h5')(input)\n",
    "model_6b = tf.keras.models.load_model('model_6b.h5')(input_A, input_B)\n",
    "\n",
    "# Output\n",
    "output = Average()([model_6a, model_6b])\n",
    "output = Dense(1, activation='linear', name=\"output\")(output)\n",
    "\n",
    "model_13a = Model(inputs= [input], outputs=[output])\n",
    "\n",
    "# Compile model\n",
    "model_13a.compile(optimizer='Adam',\n",
    "                 loss='mse',\n",
    "                 metrics=['mae'])\n",
    "\n",
    "\n",
    "model_13a.summary()\n",
    "\n",
    "tf.keras.utils.plot_model(model_13a)"
   ],
   "metadata": {
    "collapsed": false,
    "pycharm": {
     "name": "#%%\n"
    }
   }
  },
  {
   "cell_type": "code",
   "execution_count": null,
   "outputs": [],
   "source": [
    "checkpoint_cb = tf.keras.callbacks.ModelCheckpoint(\"model_12.h5\",\n",
    "                                                   save_best_only=True)\n",
    "\n",
    "early_stopping_cb = tf.keras.callbacks.EarlyStopping(patience=10,\n",
    "                                                     restore_best_weights=True)\n",
    "\n",
    "history_12 = model_12.fit(X_train_norm, y_train,\n",
    "                          epochs=200,\n",
    "                          batch_size=128,\n",
    "                          verbose=2,\n",
    "                          callbacks =[checkpoint_cb, early_stopping_cb],\n",
    "                          validation_split=0.2)"
   ],
   "metadata": {
    "collapsed": false,
    "pycharm": {
     "name": "#%%\n"
    }
   }
  },
  {
   "cell_type": "markdown",
   "source": [
    "#### Оценка результатов"
   ],
   "metadata": {
    "collapsed": false
   }
  },
  {
   "cell_type": "code",
   "execution_count": null,
   "outputs": [],
   "source": [
    "# Learning curves\n",
    "pd.DataFrame(history_12.history).plot(figsize=(20, 8))\n",
    "plt.grid(True)\n",
    "plt.gca().set_ylim(0, 1)\n",
    "plt.show()"
   ],
   "metadata": {
    "collapsed": false,
    "pycharm": {
     "name": "#%%\n"
    }
   }
  },
  {
   "cell_type": "code",
   "execution_count": null,
   "outputs": [],
   "source": [
    "fig, (axL, axR) = plt.subplots(ncols=2, figsize=(20, 8))\n",
    "axL.plot(history_12.history['loss'], label=\"loss (mse) for training\")\n",
    "axL.plot(history_12.history['val_loss'], label=\"loss (mse) for validation\")\n",
    "axL.set_title('model loss')\n",
    "axL.set_xlabel('epoch')\n",
    "axL.set_ylabel('loss')\n",
    "axL.legend(loc='upper right')\n",
    "\n",
    "axR.plot(history_12.history['mae'], label=\"mae for training\")\n",
    "axR.plot(history_12.history['val_mae'], label=\"mae for validation\")\n",
    "axR.set_title('model mae')\n",
    "axR.set_xlabel('epoch')\n",
    "axR.set_ylabel('mae')\n",
    "axR.legend(loc='upper right')\n",
    "\n",
    "plt.show()"
   ],
   "metadata": {
    "collapsed": false,
    "pycharm": {
     "name": "#%%\n"
    }
   }
  },
  {
   "cell_type": "code",
   "execution_count": null,
   "outputs": [],
   "source": [
    "# Evaluate the model on the test set\n",
    "evaluate_12 = model_12.evaluate(X_test, y_test, verbose=2)"
   ],
   "metadata": {
    "collapsed": false,
    "pycharm": {
     "name": "#%%\n"
    }
   }
  },
  {
   "cell_type": "code",
   "execution_count": null,
   "outputs": [],
   "source": [
    "# Predictions\n",
    "y_preds_train = model_12.predict(X_train)\n",
    "y_preds_test = model_12.predict(X_test)\n",
    "\n",
    "# calculate root mean squared error\n",
    "trainScore_12 = math.sqrt(mean_squared_error(y_train, y_preds_train))\n",
    "print('Train Score: %.2f RMSE' % (trainScore_12))\n",
    "\n",
    "testScore_12 = math.sqrt(mean_squared_error(y_test, y_preds_test))\n",
    "print('Test Score: %.2f RMSE' % (testScore_12))"
   ],
   "metadata": {
    "collapsed": false,
    "pycharm": {
     "name": "#%%\n"
    }
   }
  },
  {
   "cell_type": "markdown",
   "source": [
    "---"
   ],
   "metadata": {
    "collapsed": false,
    "pycharm": {
     "name": "#%% md\n"
    }
   }
  }
 ],
 "metadata": {
  "kernelspec": {
   "display_name": "Python 3",
   "language": "python",
   "name": "python3"
  },
  "language_info": {
   "codemirror_mode": {
    "name": "ipython",
    "version": 2
   },
   "file_extension": ".py",
   "mimetype": "text/x-python",
   "name": "python",
   "nbconvert_exporter": "python",
   "pygments_lexer": "ipython2",
   "version": "2.7.6"
  }
 },
 "nbformat": 4,
 "nbformat_minor": 0
}